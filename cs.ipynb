{
 "cells": [
  {
   "cell_type": "code",
   "execution_count": 3,
   "metadata": {},
   "outputs": [
    {
     "name": "stdout",
     "output_type": "stream",
     "text": [
      "ababab\n"
     ]
    },
    {
     "data": {
      "text/plain": [
       "'  bbb  '"
      ]
     },
     "execution_count": 3,
     "metadata": {},
     "output_type": "execute_result"
    }
   ],
   "source": [
    "#1 1d\n",
    "#Which of the following functions can be used to eliminate multiple occurrences of a character or characters which are mistakenly added?\n",
    "#a) remove() b) strip() c) pop() d replace()\n",
    "s=\"  ababab  \"\n",
    "#no s.remove() s.pop() functions in python for strings\n",
    "print(s.strip()) #returns \"ababab\"\n",
    "#s.replace('a','') replaces all a's with '' therefore removing it\n",
    "s.replace('a','')"
   ]
  },
  {
   "cell_type": "code",
   "execution_count": 4,
   "metadata": {},
   "outputs": [
    {
     "name": "stdout",
     "output_type": "stream",
     "text": [
      "pq111\n"
     ]
    }
   ],
   "source": [
    "#2 2b\n",
    "#What will be the output of the following code? \n",
    "A=['Abe', 'pq', 'abe', '2020', '111', 'pal'] \n",
    "#max(A) returns 'pq' since pq is last in dictionary order\n",
    "#min(A) returns '111' since 111 is first in dictionary order\n",
    "print(max(A)+min(A))\n",
    "#a) AttributeError b)pq111 c)2020 d)pal111"
   ]
  },
  {
   "cell_type": "code",
   "execution_count": 8,
   "metadata": {},
   "outputs": [
    {
     "name": "stdout",
     "output_type": "stream",
     "text": [
      "1eago mc\n",
      "1 edarg ot emoc\n"
     ]
    }
   ],
   "source": [
    "#3 3C\n",
    "#What is the output of the following?\n",
    "s='Welcome to Grade 12'.lower()\n",
    "#index=-19 -18 -17 -16 -15 -14 -13 -12 -11 -10 -9  -8  -7  -6  -5  -4  -3  -2   -1\n",
    "#s=    'w' 'e' 'l' 'c' 'o' 'm' 'e' ' ' 't' 'o' ' ' 'g' 'r' 'a' 'd' 'e' ' ' '1' '2'\n",
    "#index= 0   1   2   3   4   5   6   7   8   9  10   11 12   13 14  15   16  17  18\n",
    "#[start: end : step]\n",
    "print(s[-2:2:-1]) # returns 's[-2/17],s[-3/16],s[-4/15],s[-5/14],s[-6/13],s[-7/12],s[-8/11],s[-9/10],s[-10/9],s[-11/8],s[-12/7],s[-13/6],s[-14/5],s[-15/4],s[-16/3]'\n",
    "print(s[-2:2:-2]) # returns 's[-2/17],s[-4/15],s[-6/13],s[-8/11],s[-10/9],s[-12/7],s[-14/5],s[-16/3]'\n",
    "#s[-2:2] returns '1 edarg ot emocl'\n",
    "#a) 'leaGo mc' b)[] c) 'leago mc' d) '2 dr teo'"
   ]
  },
  {
   "cell_type": "code",
   "execution_count": 9,
   "metadata": {},
   "outputs": [
    {
     "name": "stdout",
     "output_type": "stream",
     "text": [
      "[]\n",
      "[]\n",
      "[]\n"
     ]
    }
   ],
   "source": [
    "#4 4d\n",
    "#Given \n",
    "Lst=[30,10,90,80]\n",
    "#. Which of the foiiowing will remove all the elements in the list and make it an empty list?\n",
    "\n",
    "#a) del Lst[:] #Lst[:] is same as Lst so a option is del Lst which removes all elements\n",
    "#b) Lst[:]=[]  #Lst[:] is same as Lst so b option is Lst=[] which assigns an empty list to Lst\n",
    "#c) del Lst[0:len(Lst)] #Lst[0:len(Lst)] is same as Lst so c option is del Lst[] which removes all elements\n",
    "#d) All of the above\n",
    "del Lst[:]\n",
    "print(Lst)\n",
    "Lst = [30,10,90,80]\n",
    "Lst[:]=[]\n",
    "print(Lst)\n",
    "Lst=[30,10,90,80]\n",
    "del Lst[0:len(Lst)]\n",
    "print(Lst)\n",
    "#so all options are correct"
   ]
  },
  {
   "cell_type": "code",
   "execution_count": 78,
   "metadata": {},
   "outputs": [
    {
     "name": "stdout",
     "output_type": "stream",
     "text": [
      "['a', 'b', 'c', 'd']\n"
     ]
    }
   ],
   "source": [
    "#5\n",
    "#Write a python statement to sort the keys of a dictionary named \"emp\" in alphabetical order and store the result in sorted keys.\n",
    "emp={'c':3,'d':4,'a':1,'b':2}\n",
    "sorted_keys=sorted(emp.keys())\n",
    "print(sorted_keys)"
   ]
  },
  {
   "cell_type": "code",
   "execution_count": 13,
   "metadata": {},
   "outputs": [
    {
     "name": "stdout",
     "output_type": "stream",
     "text": [
      "3\n"
     ]
    }
   ],
   "source": [
    "#6 6b\n",
    "#Write the output of the following code:\n",
    "print(len('programming'.upper().split(\"M\")))\n",
    "#print(len('PROGRAMMING'.split(\"M\"))) \n",
    "#split cuts the string into list of 2 strings based on the delimiter\n",
    "#1 step ['PROGRA', 'MING']\n",
    "#2 step ['PROGRA', '', 'ING']\n",
    "#print(len(['PROGRA','','ING']))\n",
    "#ans 3\n",
    "#a) 2 b) 3 c) 4 d) 0"
   ]
  },
  {
   "cell_type": "code",
   "execution_count": 16,
   "metadata": {},
   "outputs": [
    {
     "name": "stdout",
     "output_type": "stream",
     "text": [
      "{'Pno': 52, 'Expert': ['Badminton', 'Tennis'], 'Score': (77, 44)}\n",
      "{'Pno': 50, 'Expert': ['Cricket', 'Tennis'], 'Score': (77, 44)}\n"
     ]
    }
   ],
   "source": [
    "#7 7C\n",
    "#Which of the following statement(s) would give an error during the execution of the following code?\n",
    "#R={'Pno':52, 'Pname': Virat, 'Expert': ['Badminton', 'Tennis'], 'Score':(77,44)}\n",
    "R={'Pno':52, 'Expert': ['Badminton', 'Tennis'], 'Score':(77,44)}\n",
    "print(R)    #Statement 1\n",
    "R['Expert'][0]='Cricket' #Statement 2\n",
    "#R['Score'][0]=50    #Statement 3\n",
    "R['Pno']=50 #Statement 4\n",
    "print(R)\n",
    "\n",
    "#a) Statement 1 b)Statement 2 c) Statement 3 d) Statement 4\n",
    "#first Virat must be in quotes or must be a defined variable\n",
    "#then in statement 3 R['Score'] return tuple  R['Score'][0] return 1st tuple elmenet which is immutable which returns error"
   ]
  },
  {
   "cell_type": "code",
   "execution_count": 22,
   "metadata": {},
   "outputs": [
    {
     "name": "stdout",
     "output_type": "stream",
     "text": [
      "{'name': 'virat', 'age': 32}\n"
     ]
    }
   ],
   "source": [
    "#8 8d\n",
    "#Which of the following statements will remove the last item from a dictionary named peron.\n",
    "#a) person.pop(-1) b) person.pepitem(-1)\n",
    "#c) person.pop() d) person.popitem()\n",
    "\n",
    "person={'name':'virat','age':32,'country':'india'}\n",
    "#person.pop(-1) and person.pop() are invalid as pop() takes key as argument\n",
    "#person.popitem(-1) is invalid as popitem() takes no argument \n",
    "person.popitem()\n",
    "print(person)"
   ]
  },
  {
   "cell_type": "code",
   "execution_count": 25,
   "metadata": {},
   "outputs": [
    {
     "name": "stdout",
     "output_type": "stream",
     "text": [
      "East\n",
      "2\n"
     ]
    }
   ],
   "source": [
    "#9 9a,b,c\n",
    "#What are the possible outcome(s) executed from the following code?\n",
    "import random\n",
    "DIR=['North', 'South', 'East', 'West']\n",
    "NUM=random.randint(1,3)\n",
    "N=''\n",
    "for i in range(NUM,1,-1):\n",
    "    N+=DIR[i]\n",
    "print(N)\n",
    "#a) WestEast b) East c) No output d) WestEastSouth\n",
    "#possible outcome of random.randint(1,3) is 1,2,3\n",
    "#possible outcome of range(NUM,1,-1) is (3,1,-1),(2,1,-1),(1,1,-1) => [3,2],[2],[]\n",
    "#possible outcome of N+=DIR[i] is {N+=DIR[3] N+=DIR[2]},{N+=DIR[2]},{} => WestEast,East,''A\n",
    "#ans a,b,c"
   ]
  },
  {
   "cell_type": "code",
   "execution_count": 26,
   "metadata": {},
   "outputs": [
    {
     "name": "stdout",
     "output_type": "stream",
     "text": [
      "5\n"
     ]
    }
   ],
   "source": [
    "#10 10C\n",
    "#Predict the output\n",
    "numbers=[1,2,3,4]\n",
    "numbers.append([5,6,7,8]) #append takes the whole argument and adds it to the numbers list at end as an element\n",
    "#numbers = [1,2,3,4,[5,6,7,8]]\n",
    "print(len(numbers)) # no of elements in numbers is 5 \n",
    "#a) 8 b) Error as we cannot append a list to a list\n",
    "#c) 5 d) 7\n",
    "#ans c"
   ]
  },
  {
   "cell_type": "code",
   "execution_count": 33,
   "metadata": {},
   "outputs": [
    {
     "name": "stdout",
     "output_type": "stream",
     "text": [
      "[3, 2, 1]\n",
      "[1, 2, 3]\n"
     ]
    }
   ],
   "source": [
    "#11 11a,c\n",
    "#Which of the following statements is used to reverse a list in-place in Python?\n",
    "#a) myList.reverse() b) myList =myList.reverse()\n",
    "#c) myList= myList[::-1] d) d.reversed(myList) \n",
    "myList = [1,2,3]\n",
    "myList.reverse() # reverse() reverses the list on which it is being called\n",
    "print(myList)\n",
    "#myList = myList.resverse(), reverse() does not return any values\n",
    "# there is no d.reversed()myList function\n",
    "myList =myList[::-1] # => myList[-1,-4,-1] or myList[-1,-(len(myList)+1),-1] which reverses the list\n",
    "print(myList)\n"
   ]
  },
  {
   "cell_type": "code",
   "execution_count": 34,
   "metadata": {},
   "outputs": [],
   "source": [
    "#12\n",
    "#Assertion(A):Python code in one module gains access to the code in another module by the process of importing it.\n",
    "#Reason(R): The import statement binds the module to the local scope. \n",
    "\n",
    "# Ans both assertion and reason are true\n",
    "# Python code in one module gains access to the code in another module by the process of importing it. \n",
    "# The import statement combines two operations; it searches for the named module, then it binds the results of that search to a name in the local scope. \n",
    "\n"
   ]
  },
  {
   "cell_type": "code",
   "execution_count": 36,
   "metadata": {},
   "outputs": [
    {
     "name": "stdout",
     "output_type": "stream",
     "text": [
      "('python', '', '')\n"
     ]
    }
   ],
   "source": [
    "#13 \n",
    "#Assertion (A): 'python'.partition('P') returns ('python', '', '')\n",
    "#Reason(R): Partition method splits the ring at the first occurrence of sep, and returns a tuple containing 3 elements.\n",
    "# Reason is true and if separation('P') is not present as in this case('python') it returns the  string and 2 empty strings so Assertion is also true\n",
    "print('python'.partition('P'))"
   ]
  },
  {
   "cell_type": "code",
   "execution_count": 46,
   "metadata": {},
   "outputs": [
    {
     "name": "stdout",
     "output_type": "stream",
     "text": [
      "0 t\n",
      "1 o\n",
      "2 g\n",
      "3 g\n",
      "4 l\n",
      "5 e\n"
     ]
    }
   ],
   "source": [
    "#14\n",
    "#Observe the following code carefully and rewrite it after removing all the errors. Underline all the corrections made.\n",
    "#s=ToGGle\n",
    "#for i in s:\n",
    "#    if s[i].isalpha:\n",
    "#        if s[i].isupper:print(i,s[i].lower')\n",
    "#            else:print(i,i.upper)\n",
    "\n",
    "s='ToGGle' #string must be in quoats\n",
    "for i in range(len(s)): #for i in s iterates over the elements of s, since we need i as index we can change it to range(len(s))\n",
    "    if s[i].isalpha: # here function isaplpha with paranthesis is used it return function reference, then if evaluates that reference to truth value\n",
    "        if s[i].isupper:print(i,s[i].lower())#.lower() and .upper() needs to have brackets()\n",
    "        else:print(i,s[i].upper())#else must be indented as if level and we must use paranthesis to get function return value"
   ]
  },
  {
   "cell_type": "code",
   "execution_count": 49,
   "metadata": {},
   "outputs": [
    {
     "name": "stdout",
     "output_type": "stream",
     "text": [
      "['A', 10, 21, 33, 4]\n",
      "['A', 21, 33, 4]\n",
      "['A', 21, 4]\n",
      "None 0\n"
     ]
    }
   ],
   "source": [
    "#15\n",
    "#Predict the output of the following code:\n",
    "S='AIM'\n",
    "L=[10,21,33,4]\n",
    "for i in range(len(S)): #range(4) => 0,1,2\n",
    "    if i%20==0:         #0%20=>0, 1%20=>1, 2%20=>2\n",
    "        L.insert(i,S[i])#L.insert(0,'A') => L=['A',10,21,33,4]\n",
    "    else:\n",
    "        L.pop(i)        #L.pop(1),L.pop(2)\n",
    "    print(L)            #['A', 10, 21, 33, 4], ['A', 21, 33, 4], ['A', 21, 4]\n",
    "print(L.clear(),len(L))"
   ]
  },
  {
   "cell_type": "code",
   "execution_count": 50,
   "metadata": {},
   "outputs": [
    {
     "name": "stdout",
     "output_type": "stream",
     "text": [
      "{'name': 'XXX', 'location': 'Chennai', 'favorite langage': 'Python'}\n"
     ]
    }
   ],
   "source": [
    "#16 \n",
    "#Complete the following python script by filling in the blank \n",
    "\n",
    "questions=['name', 'location', 'favorite langage']\n",
    "answers=['XXX', 'Chennai', 'Python']\n",
    "#QA = ________\n",
    "#for q,a in ________ (questions, answers):\n",
    "#    QA[________] = ________\n",
    "\n",
    "QA = {} # assign QA as empty dictionary\n",
    "for q,a in zip(questions, answers): # zip is used to iterate over two or more iterables\n",
    "   QA[q] = a    # assign q as key and a as value\n",
    "\n",
    "print(QA)"
   ]
  },
  {
   "cell_type": "code",
   "execution_count": 60,
   "metadata": {},
   "outputs": [
    {
     "name": "stdout",
     "output_type": "stream",
     "text": [
      "[]\n"
     ]
    }
   ],
   "source": [
    "#17\n",
    "#a) Differentiate between sort() and sorted().\n",
    "# sort() sorts the list in-place and returns None, sorted() takes an iterable and returns a sorted list\n",
    "#or\n",
    "#b) Differentiate between del statement and clear method with respect to list.\n",
    "#del statement delets the given range of elements from the list but clear method makes the list empty"
   ]
  },
  {
   "cell_type": "code",
   "execution_count": 61,
   "metadata": {},
   "outputs": [
    {
     "name": "stdout",
     "output_type": "stream",
     "text": [
      "3 (3, (4,))\n"
     ]
    }
   ],
   "source": [
    "#18\n",
    "#Find the output of the following code?\n",
    "T=((1,(2,(3,(4,)))), 'e',3) # T is a tuple with 3 elements (1,(2,(3,(4,)))), 'e', 3 so len(T)=3\n",
    "print(len(T),T[0][1][1]) #T[0] is 1st element (1,(2,(3,(4,)))) which is a tuple with 2 element 1, (2,(3,(4,))) \n",
    "                         #T[0][1] is 2nd element (2,(3,(4,))) which is a tuple with 2 elements 2, (3,(4,))\n",
    "                         #T[0][1][1] is 3rd element (3,(4,)) so ans is 3 (3,(4,))"
   ]
  },
  {
   "cell_type": "code",
   "execution_count": 63,
   "metadata": {},
   "outputs": [
    {
     "name": "stdout",
     "output_type": "stream",
     "text": [
      "{'Exam': 'SSCE', 'Year': 2024, 'Total': 500, 'Pass_Marks': 165}\n",
      "SSCE 2024\n",
      "{'Exam': 'SSCE', 'Total': 500, 'Pass_Marks': 165}\n"
     ]
    }
   ],
   "source": [
    "#19\n",
    "#a) Given the following dictionaries\n",
    "dict_exam={\"Exam\":\"SSCE\", \"Year\":2024} \n",
    "dict_result={\"Total\": 500, \"Pass_Marks\":165}\n",
    "#Write a statement to merge the contents of both dictionaries?\n",
    "dict_exam.update(dict_result)\n",
    "print(dict_exam)\n",
    "#b) Explain the difference between get() and pop() methods of python dictionaries.\n",
    "#get() is used to get the value of the key and pop() is used to delete the key and value it also returns the value\n",
    "print(dict_exam.get(\"Exam\"),dict_exam.pop(\"Year\"))\n",
    "print(dict_exam)"
   ]
  },
  {
   "cell_type": "code",
   "execution_count": 64,
   "metadata": {},
   "outputs": [
    {
     "name": "stdout",
     "output_type": "stream",
     "text": [
      "fUN#pYTHONn#.\n"
     ]
    }
   ],
   "source": [
    "#20\n",
    "#Predict the output of the following code:\n",
    "m=\"\"\n",
    "s='Fun@Python3.0'\n",
    "for i in range(0,len(s)):#range(0,len(s)) is range(13) 0..12\n",
    "    if(s[i].isupper()): #FP\n",
    "        m=m+s[i].lower()#fp\n",
    "    elif s[i].islower():#unython \n",
    "        m=m+s[i].upper()#UNYTHON\n",
    "    else:               #@3.0 #index of @3.0 is [3,10,11,12]\n",
    "        if i%2==0:      #[3,10,11,12] => [false,true,false,true]\n",
    "            m=m+s[i-1]  #[10,12](30) => n.\n",
    "        else:\n",
    "            m=m+\"#\"     #[3,11](@.) => ##\n",
    "print(m) # m => fUN#pYTHONn#."
   ]
  },
  {
   "cell_type": "code",
   "execution_count": 68,
   "metadata": {},
   "outputs": [
    {
     "data": {
      "text/plain": [
       "3"
      ]
     },
     "execution_count": 68,
     "metadata": {},
     "output_type": "execute_result"
    }
   ],
   "source": [
    "#21\n",
    "#Write a program to accept a string and count the number of words without vowel characters.\n",
    "#Sample input:\"My Rhythms fly\" has no vowels in it\n",
    "#Sample output: 3\n",
    "\n",
    "def count_words_without_vowels(str):\n",
    "    str = str.lower() # convert the string to lowercase so that we don't need to worry about case sensitiveness\n",
    "    count = 0         # set initial value of count to 0\n",
    "    for w in str.split(): # split the string into list of words\n",
    "        if(('a' in w) or ('e' in w) or ('i' in w) or ('o' in w) or ('u' in w)): # check if any vowel is present in the word\n",
    "            pass # if present, pass\n",
    "        else:\n",
    "            count += 1 #else increment the count\n",
    "    return count # return the count at end\n",
    "\n",
    "count_words_without_vowels(\"My Rhythms fly\")"
   ]
  },
  {
   "cell_type": "code",
   "execution_count": 69,
   "metadata": {},
   "outputs": [
    {
     "name": "stdout",
     "output_type": "stream",
     "text": [
      "Glob*l w*rming\n",
      "w  \n",
      "False\n",
      "['2024', 'A', 'E', 'M', 'Y']\n"
     ]
    }
   ],
   "source": [
    "#22\n",
    "#Consider: \n",
    "Str,Lst=\"Global warming\",['E', 'Y', 'A', 'M', '2024']\n",
    "#Write Python statements (single statements only) for each of the following tasks using BUILT-IN functions/methods only:\n",
    "#a) To replace all occurrences of letter 'a' with '*'.\n",
    "#b) To return the highest and the least value in the string.\n",
    "#c) To check if the string is in the title case.\n",
    "#d) To arrange the list elements in its alphabetical order.\n",
    "\n",
    "print(Str.replace('a','*')) # replace all occurrences of letter 'a' with '*'\n",
    "print(max(Str),min(Str)) # max char is w and min char is ' ' space\n",
    "print(Str.istitle())\n",
    "Lst.sort()\n",
    "print(Lst)"
   ]
  },
  {
   "cell_type": "code",
   "execution_count": 71,
   "metadata": {},
   "outputs": [
    {
     "name": "stdout",
     "output_type": "stream",
     "text": [
      "[[], ['A'], ['A', 'n'], ['A', 'n', 'y'], ['A', 'n', 'y', ' '], ['A', 'n', 'y', ' ', 'S'], ['A', 'n', 'y', ' ', 'S', 't'], ['A', 'n', 'y', ' ', 'S', 't', 'r'], ['A', 'n', 'y', ' ', 'S', 't', 'r', 'i'], ['A', 'n', 'y', ' ', 'S', 't', 'r', 'i', 'n'], ['A', 'n', 'y', ' ', 'S', 't', 'r', 'i', 'n', 'g'], ['A', 'n', 'y', ' ', 'S', 't', 'r', 'i', 'n', 'g', ':'], [], ['n'], ['n', 'y'], ['n', 'y', ' '], ['n', 'y', ' ', 'S'], ['n', 'y', ' ', 'S', 't'], ['n', 'y', ' ', 'S', 't', 'r'], ['n', 'y', ' ', 'S', 't', 'r', 'i'], ['n', 'y', ' ', 'S', 't', 'r', 'i', 'n'], ['n', 'y', ' ', 'S', 't', 'r', 'i', 'n', 'g'], ['n', 'y', ' ', 'S', 't', 'r', 'i', 'n', 'g', ':'], [], ['y'], ['y', ' '], ['y', ' ', 'S'], ['y', ' ', 'S', 't'], ['y', ' ', 'S', 't', 'r'], ['y', ' ', 'S', 't', 'r', 'i'], ['y', ' ', 'S', 't', 'r', 'i', 'n'], ['y', ' ', 'S', 't', 'r', 'i', 'n', 'g'], ['y', ' ', 'S', 't', 'r', 'i', 'n', 'g', ':'], [], [' '], [' ', 'S'], [' ', 'S', 't'], [' ', 'S', 't', 'r'], [' ', 'S', 't', 'r', 'i'], [' ', 'S', 't', 'r', 'i', 'n'], [' ', 'S', 't', 'r', 'i', 'n', 'g'], [' ', 'S', 't', 'r', 'i', 'n', 'g', ':'], [], ['S'], ['S', 't'], ['S', 't', 'r'], ['S', 't', 'r', 'i'], ['S', 't', 'r', 'i', 'n'], ['S', 't', 'r', 'i', 'n', 'g'], ['S', 't', 'r', 'i', 'n', 'g', ':'], [], ['t'], ['t', 'r'], ['t', 'r', 'i'], ['t', 'r', 'i', 'n'], ['t', 'r', 'i', 'n', 'g'], ['t', 'r', 'i', 'n', 'g', ':'], [], ['r'], ['r', 'i'], ['r', 'i', 'n'], ['r', 'i', 'n', 'g'], ['r', 'i', 'n', 'g', ':'], [], ['i'], ['i', 'n'], ['i', 'n', 'g'], ['i', 'n', 'g', ':'], [], ['n'], ['n', 'g'], ['n', 'g', ':'], [], ['g'], ['g', ':'], [], [':']]\n"
     ]
    }
   ],
   "source": [
    "#23\n",
    "#Amit attempted to write a program to print all unique substrings of a given string. Help him to complete the program.\n",
    "# S=________(\"Any String:\")\n",
    "# res=[]\n",
    "# for i in range(len(s)):\n",
    "#     for j in range(________,len(s) + 1):\n",
    "#         res.________(s[________])\n",
    "# print(res)\n",
    "\n",
    "s=list(\"Any String:\") #s is list of characters\n",
    "res=[]\n",
    "for i in range(len(s)): #iterate i 0 to len(s)-1\n",
    "    for j in range(i,len(s) + 1): # iterate j from i to len(s)+1\n",
    "        res.append(s[i:j]) # use i,j to create substrings\n",
    "print(res)"
   ]
  },
  {
   "cell_type": "code",
   "execution_count": 75,
   "metadata": {},
   "outputs": [
    {
     "name": "stdout",
     "output_type": "stream",
     "text": [
      "1. Add new player\n",
      "2. Update score\n",
      "3. Search score\n",
      "4. Print overall score\n",
      "5. Print scoreboard\n",
      "6. Exit\n"
     ]
    }
   ],
   "source": [
    "#24\n",
    "#Write a menu driven program to perform the following operations on a dictionary named SCOREBOARD which stores the player name and runs scored as key value pairs.\n",
    "# a) add a new player\n",
    "# b) update score\n",
    "# c) search score by player name.\n",
    "# d) print the overall score.\n",
    "# e) print the score board.\n",
    "\n",
    "SCOREBOARD={}\n",
    "\n",
    "def add_new_player():\n",
    "    name=input(\"Enter player name: \")\n",
    "    score=int(input(\"Enter player score: \"))\n",
    "    if name in SCOREBOARD:\n",
    "        print(\"Player already exists\")\n",
    "    else:\n",
    "        SCOREBOARD[name]=score\n",
    "        print(\"Player added successfully\")\n",
    "\n",
    "def update_score():\n",
    "    name=input(\"Enter player name to update score: \")\n",
    "    if name in SCOREBOARD:\n",
    "        score=int(input(\"Enter new score: \"))\n",
    "        SCOREBOARD[name]=score\n",
    "        print(\"Score updated successfully\")\n",
    "    else:\n",
    "        print(\"Player not found\")\n",
    "\n",
    "def search_score():\n",
    "    name=input(\"Enter player name to search score: \")\n",
    "    if name in SCOREBOARD:\n",
    "        print(\"Score: \",SCOREBOARD[name])\n",
    "    else:\n",
    "        print(\"Player not found\")\n",
    "\n",
    "def print_overall_score():\n",
    "    total_score = 0\n",
    "    for name, score in SCOREBOARD.items():\n",
    "        total_score += score\n",
    "    print(\"Overall score: \", total_score)\n",
    "\n",
    "def print_scoreboard():\n",
    "    print(\"Scoreboard: \")\n",
    "    for name, score in SCOREBOARD.items():\n",
    "        print(name, \":\", score)\n",
    "\n",
    "while True:\n",
    "    print(\"1. Add new player\")\n",
    "    print(\"2. Update score\")\n",
    "    print(\"3. Search score\")\n",
    "    print(\"4. Print overall score\")\n",
    "    print(\"5. Print scoreboard\")\n",
    "    print(\"6. Exit\")\n",
    "    choice=int(input(\"Enter your choice: \"))\n",
    "    if choice==1:\n",
    "        add_new_player()\n",
    "    elif choice==2:\n",
    "        update_score()\n",
    "    elif choice==3:\n",
    "        search_score()\n",
    "    elif choice==4:\n",
    "        print_overall_score()\n",
    "    elif choice==5:\n",
    "        print_scoreboard()\n",
    "    elif choice==6:\n",
    "        break\n",
    "    else:\n",
    "        print(\"Invalid choice\")"
   ]
  },
  {
   "cell_type": "code",
   "execution_count": 76,
   "metadata": {},
   "outputs": [
    {
     "data": {
      "text/plain": [
       "4"
      ]
     },
     "execution_count": 76,
     "metadata": {},
     "output_type": "execute_result"
    }
   ],
   "source": [
    "#25\n",
    "#a) Write a program to reverse a string.\n",
    "#sample input: I am a star\n",
    "#Sample output: star a am I\n",
    "\n",
    "def reverse_string(string):\n",
    "    return string[::-1]\n",
    "\n",
    "#b) Suppose we have an array nums. Here a pair (i,j) is said to be a good pair if nums[i] is the same as nums[j] and i<j. Write a program to print the indices of good pairs.\n",
    "#So, if the input is like nums = [5,6,7,5,5,7], then the output will be 4 as there are 4 good pairs the indices are (0, 3), (0, 4) (3, 4), (2, 5)\n",
    "\n",
    "def good_pairs(nums):\n",
    "    count = 0\n",
    "    for i in range(len(nums)-1): # iterate i from 0 to len(nums)-2\n",
    "        for j in range(i+1, len(nums)): # iterate j from i+1 to len(nums) so i<j\n",
    "            if nums[i] == nums[j]:\n",
    "                count += 1\n",
    "    return count\n",
    "\n",
    "good_pairs([5,6,7,5,5,7])"
   ]
  },
  {
   "cell_type": "code",
   "execution_count": null,
   "metadata": {},
   "outputs": [],
   "source": []
  }
 ],
 "metadata": {
  "kernelspec": {
   "display_name": "Python 3",
   "language": "python",
   "name": "python3"
  },
  "language_info": {
   "codemirror_mode": {
    "name": "ipython",
    "version": 3
   },
   "file_extension": ".py",
   "mimetype": "text/x-python",
   "name": "python",
   "nbconvert_exporter": "python",
   "pygments_lexer": "ipython3",
   "version": "3.11.4"
  }
 },
 "nbformat": 4,
 "nbformat_minor": 2
}
